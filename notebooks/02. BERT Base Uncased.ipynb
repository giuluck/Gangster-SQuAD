{
  "nbformat": 4,
  "nbformat_minor": 0,
  "metadata": {
    "colab": {
      "name": "02. BERT Base Uncased.ipynb",
      "provenance": [],
      "collapsed_sections": []
    },
    "kernelspec": {
      "display_name": "Python 3",
      "language": "python",
      "name": "python3"
    },
    "accelerator": "GPU"
  },
  "cells": [
    {
      "cell_type": "markdown",
      "metadata": {
        "id": "b5_hByr9-Asu"
      },
      "source": [
        "> **BERT BASE UNCASED**\r\n",
        ">\r\n",
        "> ---\r\n",
        ">\r\n",
        "> In this notebook we develop a neural model starting from a pre-trained **BERT** model. We tokenize `paragraphs` and `questions` using the default tokenizer, then use the pretrained model as first layer for the neural network."
      ]
    },
    {
      "cell_type": "markdown",
      "metadata": {
        "id": "DgAW3FJSaiZ6"
      },
      "source": [
        "# **0. Preliminary Settings**\r\n",
        "\r\n",
        "At first, we need to clone the repository to get access to the code and use utility functions inside the notebook. The `src` folder is then added to the system path so that the modules can be used inside the notebook.\r\n",
        "\r\n",
        "Then, we use the utility functions in the `src` folder to get the ***train*** and ***validation*** splits, while we discard the ***test*** split as it will be used to evaluate the best model only."
      ]
    },
    {
      "cell_type": "code",
      "metadata": {
        "id": "p_fTKyb3S8_7"
      },
      "source": [
        "!git clone https://github.com/giuluck/Gangster-SQuAD\r\n",
        "\r\n",
        "import sys\r\n",
        "sys.path.append('Gangster-SQuAD/src')\r\n",
        "\r\n",
        "from dataset import get_dataframes\r\n",
        "train_df, val_df, _ = get_dataframes('Gangster-SQuAD/data/training_set.json')"
      ],
      "execution_count": null,
      "outputs": []
    },
    {
      "cell_type": "code",
      "metadata": {
        "id": "Q9hObEuqQzAS"
      },
      "source": [
        "## TODO: remove\r\n",
        "train_df = train_df.iloc[:1000]\r\n",
        "val_df = val_df.iloc[:100]"
      ],
      "execution_count": null,
      "outputs": []
    },
    {
      "cell_type": "markdown",
      "metadata": {
        "id": "49Oyo_iYbUXC"
      },
      "source": [
        "# **1. Preprocessing**\r\n",
        "\r\n",
        "We use **HuggingFace** to start from a pretrained **BERT** model with its own vocabulary and tokenizer."
      ]
    },
    {
      "cell_type": "code",
      "metadata": {
        "id": "uwjHUNHCBqwM"
      },
      "source": [
        "%%capture\r\n",
        "!pip install transformers"
      ],
      "execution_count": null,
      "outputs": []
    },
    {
      "cell_type": "markdown",
      "metadata": {
        "id": "E9fGH4MhB-u-"
      },
      "source": [
        "### ***1.1. Tokenization***\r\n",
        "\r\n",
        "**HuggingFace** provides a pretrained *BertTokenizer*, which is quite slow, and a faster *BertWordPieceTokenizer*. In order to exploit both of them, we initially load the pretrained tokenizer, store its data, and use that data to build the faster tokenizer.\r\n",
        "\r\n",
        "Once the tokenizer has been built, we use it to process every record in the dataframe in order to build the dataset used for training and testing purposes. This dataset will be composed by:\r\n",
        "- a **list of tokens** structured in this way $$[\\mbox{CLS}, \\mbox{ctx_tok}_0, ..., \\mbox{ctx_tok}_i, ..., \\mbox{ctx_tok}_n, \\mbox{SEP}, \\mbox{qst_tok}_0, ..., \\mbox{qst_tok}_j, ..., \\mbox{qst_tok}_m, \\mbox{SEP}]$$ which will be used as input for the *BERT* model, with the respective lists of **type ids** (*0* for the context, *1* for the answer)\r\n",
        "- a **start** and an **end** integer value representing the indices of the boundary tokens that identify the answer in the text, which will be used as outputs for the *BERT* model\r\n",
        "- the **original context** and a **list of indices** representing the offsets, expressed in number of *chars* and not in number of *tokens*, which will be used to retrieve the original part of text in the context given the two outputs"
      ]
    },
    {
      "cell_type": "code",
      "metadata": {
        "id": "7pPh7k4zCH0T"
      },
      "source": [
        "from transformers import BertTokenizer\r\n",
        "from tokenizers import BertWordPieceTokenizer\r\n",
        "\r\n",
        "pretrained_model = 'bert-base-uncased'\r\n",
        "\r\n",
        "BertTokenizer.from_pretrained(pretrained_model).save_pretrained('slow_tokenizer/')\r\n",
        "tokenizer = BertWordPieceTokenizer('slow_tokenizer/vocab.txt', lowercase=True)"
      ],
      "execution_count": null,
      "outputs": []
    },
    {
      "cell_type": "code",
      "metadata": {
        "id": "OZqIABrQtTNk"
      },
      "source": [
        "special_tokens = { token: id for token, id in zip(['[CLS]', '[PAD]', '[SEP]'], tokenizer.encode('[PAD]').ids) }\r\n",
        "special_tokens"
      ],
      "execution_count": null,
      "outputs": []
    },
    {
      "cell_type": "code",
      "metadata": {
        "id": "doW5C2l1CgYf"
      },
      "source": [
        "import pandas as pd\r\n",
        "from preprocessing import compute_boundaries\r\n",
        "\r\n",
        "def process_dataframe(df):\r\n",
        "  def process_record(record):\r\n",
        "    # both context and question gets tokenized\r\n",
        "    tokens = tokenizer.encode(record['context'], record['question'])\r\n",
        "    # take all the context start chars then add a final index for the last character\r\n",
        "    sep_index = tokens.ids.index(special_tokens['[SEP]'])\r\n",
        "    offsets = [s for s, _ in tokens.offsets[:sep_index]] + [len(record['context'])]\r\n",
        "    # token boundaries to be used during training are computed\r\n",
        "    start_token, end_token = compute_boundaries(offsets, record['start'], len(record['answer']))\r\n",
        "    # input, output and utility data are returned to form the dataset\r\n",
        "    return [tokens.ids, tokens.type_ids, start_token, end_token, offsets]\r\n",
        "\r\n",
        "  processed_df = pd.DataFrame(\r\n",
        "    [[id] + process_record(record) for id, record in df.iterrows()],\r\n",
        "    columns = ['id', 'ids', 'types', 'start token', 'end token', 'offsets']\r\n",
        "  ).set_index(['id'])\r\n",
        "  return processed_df.join(df)\r\n",
        "\r\n",
        "train_df = process_dataframe(train_df)\r\n",
        "val_df = process_dataframe(val_df)\r\n",
        "\r\n",
        "train_df[['ids', 'types', 'start token', 'end token', 'offsets']]"
      ],
      "execution_count": null,
      "outputs": []
    },
    {
      "cell_type": "markdown",
      "metadata": {
        "id": "tJGhs8-JS7h7"
      },
      "source": [
        "### ***1.2. Correctness Check***\r\n",
        "\r\n",
        "Once the dataframe is ready, we check that whether our tokenization is good enough to let us retrieve the correct answers from the text or not.\r\n",
        "\r\n",
        "Answers are retrived by:\r\n",
        "1. getting the two `start` and `end` (token) boundaries that should be computed by the model\r\n",
        "2. converting them into a `start_char` and an `end_char` pair of indices, which represent the boundaries in the original context, using the `indices` list\r\n",
        "3. selecting the correct portion of the `context` using these two (char) boundaries and strip the obtained substring\r\n",
        "\r\n",
        "Some of the answers are not correct, but this is due to the fact that the answers given in the dataset contain substrings or variations of the words which are present in the text."
      ]
    },
    {
      "cell_type": "code",
      "metadata": {
        "id": "_C0zwk5JOBZS"
      },
      "source": [
        "from preprocessing import retrieve_answer, check_correctness\r\n",
        "\r\n",
        "def retrieving_procedure(rec):\r\n",
        "  return retrieve_answer(rec['start token'], rec['end token'], rec['offsets'], rec['context'])\r\n",
        "\r\n",
        "check_correctness(pd.concat((train_df, val_df)), retrieving_procedure)"
      ],
      "execution_count": null,
      "outputs": []
    },
    {
      "cell_type": "markdown",
      "metadata": {
        "id": "hEk_uh8wu4-s"
      },
      "source": [
        "### ***1.3. Dataset Creation***\r\n",
        "\r\n",
        "We can now prepare the dataset using **Torch** utils for data managing.\r\n",
        "\r\n",
        "* The `Data` class extends *Torch's Dataset* and allows to get input and output data from the dataframe in a lazy way\r\n",
        "> Note that we add the *masks* tensor, which is currently a tensor of ones, that is used by *BERT* to identify which token has to be considered and which one has to be discarded. Indeed, when we will pad the sequences, we will concatenate some *zeros* to this *masks* tensor to represent the padding tokens.\r\n",
        "\r\n",
        "* The `DataLoader`, then, is used to create mini-batches from the dataset and, via the custom function, to pad these mini-batches."
      ]
    },
    {
      "cell_type": "code",
      "metadata": {
        "id": "owigq4r-PBIS"
      },
      "source": [
        "import torch\r\n",
        "from torch.utils.data import Dataset, DataLoader\r\n",
        "\r\n",
        "class SquadDataset(Dataset):\r\n",
        "  def __init__(self, dataframe):\r\n",
        "    self.dataframe = dataframe\r\n",
        "        \r\n",
        "  def __getitem__(self, index):\r\n",
        "    rec = self.dataframe.iloc[index]\r\n",
        "    input_ids = torch.tensor(rec['ids'])\r\n",
        "    input_types = torch.tensor(rec['types'])\r\n",
        "    input_masks = torch.ones_like(input_ids)\r\n",
        "    output_start = torch.tensor(rec['start token'])\r\n",
        "    output_end = torch.tensor(rec['end token'])\r\n",
        "    return (input_ids, input_types, input_masks), (output_start, output_end)\r\n",
        "  \r\n",
        "  def __len__(self):\r\n",
        "    return len(self.dataframe)\r\n",
        "\r\n",
        "train_data = SquadDataset(train_df)\r\n",
        "val_data = SquadDataset(val_df)\r\n",
        "\r\n",
        "input, output = train_data[0]\r\n",
        "print('Input:')\r\n",
        "print('  > ids:', input[0].shape)\r\n",
        "print('  > types:', input[1].shape)\r\n",
        "print('  > masks:', input[2].shape)\r\n",
        "print('Output:')\r\n",
        "print('  > start:', output[0].shape)\r\n",
        "print('  > end:', output[1].shape)"
      ],
      "execution_count": null,
      "outputs": []
    },
    {
      "cell_type": "code",
      "metadata": {
        "id": "rqXB-9JVSktD"
      },
      "source": [
        "from torch.nn.utils.rnn import pad_sequence\r\n",
        "\r\n",
        "def get_loader(data, batch_size=32):\r\n",
        "  def extract_batch(batch):\r\n",
        "    input_ids = pad_sequence([ii for (ii, _, _), _ in batch], batch_first=True)\r\n",
        "    input_types = pad_sequence([it for (_, it, _), _ in batch], batch_first=True)\r\n",
        "    input_masks = pad_sequence([im for (_, _, im), _ in batch], batch_first=True)\r\n",
        "    output_starts = torch.tensor([os for _, (os, _) in batch])\r\n",
        "    output_ends = torch.tensor([oe for _, (_, oe) in batch])\r\n",
        "    return (input_ids, input_types, input_masks), (output_starts, output_ends)\r\n",
        "  return DataLoader(data, batch_size=batch_size, shuffle=True, collate_fn=extract_batch)\r\n",
        "\r\n",
        "for input, output in get_loader(train_data):\r\n",
        "  print('Input:')\r\n",
        "  print('  > ids:', input[0].shape)\r\n",
        "  print('  > types:', input[1].shape)\r\n",
        "  print('  > masks:', input[2].shape)\r\n",
        "  print('Output:')\r\n",
        "  print('  > start:', output[0].shape)\r\n",
        "  print('  > end:', output[1].shape)\r\n",
        "  break"
      ],
      "execution_count": null,
      "outputs": []
    },
    {
      "cell_type": "markdown",
      "metadata": {
        "id": "vHvyf9SigFCN"
      },
      "source": [
        "# **2. Neural Model**\r\n",
        "\r\n",
        "**BERT** is a language model and we will use it as an encoder to produce contextual embeddings for our tokens.\r\n",
        "\r\n",
        "> The model actually returns a dictionary with *two outputs*. One is the `last_hidden_state`, which has shape $[\\mbox{batch_size}, \\mbox{sequence_length}, \\mbox{embedding_dimension}]$, while the other is the `pooler_output`, which has shape $[\\mbox{batch_size}, \\mbox{embedding_dimension}]$. As in our task we want to inspect a sequence to compute the boundaries, we will rely on the first output only."
      ]
    },
    {
      "cell_type": "code",
      "metadata": {
        "id": "WkIT6J16zcUr"
      },
      "source": [
        "%%capture\n",
        "!pip install pytorch-lightning"
      ],
      "execution_count": null,
      "outputs": []
    },
    {
      "cell_type": "code",
      "metadata": {
        "id": "8h6LrGZlJfQy"
      },
      "source": [
        "import pytorch_lightning as pl\n",
        "from transformers import BertModel\n",
        "\n",
        "import torch.nn as nn\n",
        "\n",
        "\n",
        "class BertBaseline(pl.LightningModule):\n",
        "    def __init__(self,\n",
        "                 pretrained_model = 'bert-base-uncased',\n",
        "                 alpha=0.5):\n",
        "        super().__init__()\n",
        "        self.alpha = alpha\n",
        "        self.encoder = BertModel.from_pretrained(pretrained_model)\n",
        "        self.start_fc = nn.Linear(768, 1)\n",
        "        self.end_fc = nn.Linear(768, 1)\n",
        "        self.softmax = nn.Softmax(dim=1)\n",
        "        self.criterion = nn.CrossEntropyLoss()\n",
        "\n",
        "    def _logits(self, x):\n",
        "        x = self.encoder(input_ids=x[0], attention_mask=x[1], token_type_ids=x[2])\n",
        "        x = x[\"last_hidden_state\"]\n",
        "        start = self.start_fc(x).squeeze(dim=2)\n",
        "        end = self.end_fc(x).squeeze(dim=2)\n",
        "        return start, end\n",
        "\n",
        "    def forward(self, x):\n",
        "        start, end = self._logits(x)\n",
        "        prob_start = self.softmax(start)\n",
        "        prob_end = self.softmax(end)\n",
        "        return prob_start, prob_end\n",
        "\n",
        "    def training_step(self, batch, batch_idx):\n",
        "        x, (y_start, y_end) = batch\n",
        "        pred_start, pred_end = self._logits(x)\n",
        "        loss_start = self.criterion(pred_start, y_start)\n",
        "        loss_end = self.criterion(pred_end, y_end)\n",
        "        loss = self.alpha * loss_start + (1 - self.alpha) * loss_end\n",
        "        return loss\n",
        "\n",
        "    def validation_step(self, batch, batch_idx):\n",
        "        raise NotImplementedError()\n",
        "\n",
        "    def test_step(self, batch, batch_idx):\n",
        "        raise NotImplementedError()\n",
        "\n",
        "    def configure_optimizers(self):\n",
        "        optimizer = torch.optim.Adam(self.parameters(), lr=1e-3)\n",
        "        return optimizer"
      ],
      "execution_count": null,
      "outputs": []
    },
    {
      "cell_type": "code",
      "metadata": {
        "id": "Q6_qawPO8JO5"
      },
      "source": [
        "trainer = pl.Trainer(max_epochs=10, gpus=1)\n",
        "bert_baseline = BertBaseline()\n",
        "\n",
        "trainer.fit(bert_baseline, get_loader(train_data, batch_size=16))"
      ],
      "execution_count": null,
      "outputs": []
    },
    {
      "cell_type": "code",
      "metadata": {
        "id": "-cTm7b-Z81cq"
      },
      "source": [
        ""
      ],
      "execution_count": null,
      "outputs": []
    }
  ]
}