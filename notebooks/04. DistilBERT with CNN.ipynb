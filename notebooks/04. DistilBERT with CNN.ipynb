{
 "nbformat": 4,
 "nbformat_minor": 0,
 "metadata": {
  "colab": {
   "name": "04. DistilBERT with CNN.ipynb",
   "private_outputs": true,
   "provenance": [],
   "collapsed_sections": []
  },
  "kernelspec": {
   "display_name": "Python 3",
   "language": "python",
   "name": "python3"
  },
  "accelerator": "GPU"
 },
 "cells": [
  {
   "cell_type": "markdown",
   "metadata": {
    "id": "DgAW3FJSaiZ6"
   },
   "source": [
    "# **0. Preliminary Settings**\n",
    "\n",
    "At first, we need to clone the repository to get access to the code and use utility functions inside the notebook. The `src` folder is then added to the system path so that the modules can be used inside the notebook.\n",
    "\n",
    "Then, we use the utility functions in the `src` folder to get the ***train*** and ***validation*** splits, while we discard the ***test*** split as it will be used to evaluate the best model only."
   ]
  },
  {
   "cell_type": "code",
   "metadata": {
    "id": "sGt8RPdsslLg"
   },
   "source": [
    "%%capture\n",
    "!pip install transformers wandb pytorch-lightning"
   ],
   "execution_count": null,
   "outputs": []
  },
  {
   "cell_type": "code",
   "metadata": {
    "id": "p_fTKyb3S8_7"
   },
   "source": [
    "!git clone https://github.com/giuluck/Gangster-SQuAD\n",
    "\n",
    "import sys\n",
    "sys.path.append('Gangster-SQuAD')\n",
    "sys.path.append('Gangster-SQuAD/src')\n",
    "sys.path.append('Gangster-SQuAD/src/models')\n",
    "\n",
    "from dataframe import get_dataframes\n",
    "train_df, val_df, _ = get_dataframes('Gangster-SQuAD/data/training_set.json')"
   ],
   "execution_count": null,
   "outputs": []
  },
  {
   "cell_type": "code",
   "metadata": {
    "id": "iufmsB7_leO6"
   },
   "source": [
    "## TODO: remove\n",
    "train_df = train_df.iloc[:1000]\n",
    "val_df = val_df.iloc[:100]"
   ],
   "execution_count": null,
   "outputs": []
  },
  {
   "cell_type": "markdown",
   "metadata": {
    "id": "49Oyo_iYbUXC"
   },
   "source": [
    "# **1. Preprocessing**\n",
    "\n",
    "We use **HuggingFace** to start from a pretrained **DistilBERT** model with its own vocabulary and tokenizer.\n",
    "\n",
    "**HuggingFace** provides a pretrained *DistilBertTokenizer*, which is quite slow, and a faster *BertWordPieceTokenizer*. In order to exploit both of them, we initially load the pretrained tokenizer, store its data, and use that data to build the faster tokenizer.\n",
    "\n",
    "Once the tokenizer has been built, we use it to process every record in the dataframe in order to build the dataset used for training and testing purposes. This dataset will be composed by:\n",
    "- a **list of tokens** structured in this way $$[\\mbox{CLS}, \\mbox{ctx_tok}_0, ..., \\mbox{ctx_tok}_i, ..., \\mbox{ctx_tok}_n, \\mbox{SEP}, \\mbox{qst_tok}_0, ..., \\mbox{qst_tok}_j, ..., \\mbox{qst_tok}_m, \\mbox{SEP}]$$ which will be used as input for the *DistilBERT* model\n",
    "- a **start** and an **end** integer value representing the indices of the boundary tokens that identify the answer in the text, which will be used as outputs for the *DistilBERT* model\n",
    "- the **original context** and a **list of indices** representing the offsets, expressed in number of *chars* and not in number of *tokens*, which will be used to retrieve the original part of text in the context given the two outputs"
   ]
  },
  {
   "cell_type": "code",
   "metadata": {
    "id": "-fnPnDTl3a8a"
   },
   "source": [
    "from models import ModelInfo\n",
    "\n",
    "model_info = ModelInfo('distilbert-base-uncased', embedding_dim=768, max_length=512, cls_token=101, sep_token=102)"
   ],
   "execution_count": null,
   "outputs": []
  },
  {
   "cell_type": "code",
   "metadata": {
    "id": "7pPh7k4zCH0T"
   },
   "source": [
    "from transformers import DistilBertTokenizer\n",
    "from tokenizers import BertWordPieceTokenizer\n",
    "\n",
    "DistilBertTokenizer.from_pretrained(model_info.pretrained_model).save_pretrained('slow_tokenizer/')\n",
    "tokenizer = BertWordPieceTokenizer('slow_tokenizer/vocab.txt', lowercase=True)"
   ],
   "execution_count": null,
   "outputs": []
  },
  {
   "cell_type": "code",
   "metadata": {
    "id": "doW5C2l1CgYf"
   },
   "source": [
    "import pandas as pd\n",
    "from preprocessing import compute_boundaries\n",
    "from dataframe import process_dataframe\n",
    "\n",
    "train_df = process_dataframe(train_df, tokenizer)\n",
    "val_df = process_dataframe(val_df, tokenizer)\n",
    "\n",
    "train_df[['ctx_ids', 'qst_ids', 'start token', 'end token', 'offsets']]"
   ],
   "execution_count": null,
   "outputs": []
  },
  {
   "cell_type": "markdown",
   "metadata": {
    "id": "LA0pSZb-5aHw"
   },
   "source": [
    "> **DistilBERT** can manage sequences of 512 tokens at most, including one *\\[CLS\\]* token and two *\\[SEP\\]* tokens in our case. Thus, we exclude from the training dataset those sentences which exceed this limit. Still, validation sentences can be longer, therefore we will crop them later in the dataset creation."
   ]
  },
  {
   "cell_type": "code",
   "metadata": {
    "id": "kGCflR9Izzd7"
   },
   "source": [
    "excluded_train_ids = set([\n",
    "  id for (id, ctx_ids), qst_ids in zip(train_df['ctx_ids'].items(), train_df['qst_ids'])\n",
    "     if len(ctx_ids) + len(qst_ids) > model_info.max_length - 3\n",
    "])\n",
    "\n",
    "train_df = train_df[~train_df.index.isin(excluded_train_ids)]\n",
    "train_df"
   ],
   "execution_count": null,
   "outputs": []
  },
  {
   "cell_type": "markdown",
   "metadata": {
    "id": "tJGhs8-JS7h7"
   },
   "source": [
    "> Once the dataframe is ready, we check that whether our tokenization is good enough to let us retrieve the correct answers from the text or not.\n",
    ">\n",
    "> Answers are retrived by:\n",
    "> 1. getting the two `start` and `end` (token) boundaries that should be computed by the model\n",
    "> 2. converting them into a `start_char` and an `end_char` pair of indices, which represent the boundaries in the original context, using the `indices` list\n",
    "> 3. selecting the correct portion of the `context` using these two (char) boundaries and strip the obtained substring\n",
    ">\n",
    "> Some of the answers are not correct, but this is due to the fact that the answers given in the dataset contain substrings or variations of the words which are present in the text."
   ]
  },
  {
   "cell_type": "code",
   "metadata": {
    "id": "_C0zwk5JOBZS"
   },
   "source": [
    "from preprocessing import retrieve_answer\n",
    "from dataframe import check_correctness\n",
    "\n",
    "def retrieving_procedure(rec):\n",
    "  return retrieve_answer(rec['start token'], rec['end token'], rec['offsets'], rec['context'])\n",
    "\n",
    "check_correctness(pd.concat((train_df, val_df)), retrieving_procedure)"
   ],
   "execution_count": null,
   "outputs": []
  },
  {
   "cell_type": "markdown",
   "metadata": {
    "id": "hEk_uh8wu4-s"
   },
   "source": [
    "# ***2. Dataset Creation***\n",
    "\n",
    "We can now prepare the dataset using **Torch** utils for data managing.\n",
    "\n",
    "* The `SquadDataset` class extends *Torch's Dataset* and allows to get input and output data from the dataframe in a lazy way\n",
    "> Note that we add the *masks* tensor, which is currently a tensor of ones, that is used by *DistilBERT* to identify which token has to be considered and which one has to be discarded. Indeed, when we will pad the sequences, we will concatenate some *zeros* to this *masks* tensor to represent the padding tokens.\n",
    "\n",
    "* The `DataLoader`, then, is used to create mini-batches from the dataset and, via the custom function, to pad these mini-batches."
   ]
  },
  {
   "cell_type": "code",
   "metadata": {
    "id": "owigq4r-PBIS"
   },
   "source": [
    "from dataset import SquadDataset\n",
    "\n",
    "train_data = SquadDataset(train_df, model_info)\n",
    "val_data = SquadDataset(val_df, model_info)\n",
    "\n",
    "input, output = train_data[0]\n",
    "print('TRAIN DATA')\n",
    "print('Input:', input.shape)\n",
    "print('  > ids:', input[0].shape)\n",
    "print('  > types:', input[1].shape)\n",
    "print('Output:', output.shape)\n",
    "print('  > start:', output[0].shape)\n",
    "print('  > end:', output[1].shape)\n",
    "\n",
    "print()\n",
    "\n",
    "input, output = val_data[0]\n",
    "print('VAL DATA')\n",
    "print('Input:', input.shape)\n",
    "print('  > ids:', input[0].shape)\n",
    "print('  > types:', input[1].shape)\n",
    "print('Output:', output.shape)\n",
    "print('  > start:', output[0].shape)\n",
    "print('  > end:', output[1].shape)"
   ],
   "execution_count": null,
   "outputs": []
  },
  {
   "cell_type": "code",
   "metadata": {
    "id": "rqXB-9JVSktD"
   },
   "source": [
    "from torch.utils.data import DataLoader\n",
    "\n",
    "train_loader = DataLoader(train_data, batch_size=16, shuffle=True, num_workers=4, pin_memory=True)\n",
    "val_loader = DataLoader(val_data, batch_size=16, num_workers=4, pin_memory=True)\n",
    "\n",
    "for input, output in train_loader:\n",
    "  print('Input:', input.shape)\n",
    "  print('  > ids:', input[:, 0].shape)\n",
    "  print('  > types:', input[:, 1].shape)\n",
    "  print('Output:', output.shape)\n",
    "  print('  > start:', output[:, 0].shape)\n",
    "  print('  > end:', output[:, 1].shape)\n",
    "  break"
   ],
   "execution_count": null,
   "outputs": []
  },
  {
   "cell_type": "markdown",
   "metadata": {
    "id": "Tl86RM_oQDQL"
   },
   "source": [
    "# **3. Neural Model**"
   ]
  },
  {
   "cell_type": "markdown",
   "metadata": {
    "id": "z9_L2817QYPG"
   },
   "source": [
    "With this extension we would like to achieve a similar goal of the **DistilBERT with dot product attention over Hidden Layers**: aggregate multiple informations of different hidden layers to obtain a more complete representation layer. For this purpose we use a CNN which takes an input with dimension $[\\mbox{batch_size}, \\mbox{embedding_dimension}, \\mbox{sequence_length}, \\mbox{4}]$ and outputs a tensor with dimension $[\\mbox{batch_size}, \\mbox{embedding_dimension}, \\mbox{sequence_length}]$. The output is reshaped  so that it can be correctly taken as input from the two linear layers."
   ]
  },
  {
   "cell_type": "code",
   "metadata": {
    "id": "8h6LrGZlJfQy"
   },
   "source": [
    "from models import DistilBertCNN\n",
    "\n",
    "model_name = 'distilbert_cnn'\n",
    "model = DistilBertCNN()"
   ],
   "execution_count": null,
   "outputs": []
  },
  {
   "cell_type": "code",
   "metadata": {
    "id": "ZtxxwxGR16ah"
   },
   "source": [
    "import pytorch_lightning as pl\n",
    "\n",
    "trainer = pl.Trainer(\n",
    "  max_epochs=4, precision=16,\n",
    "  gpus=-1, distributed_backend='ddp',\n",
    "  logger=False, checkpoint_callback=False\n",
    ")\n",
    "\n",
    "trainer.fit(model, train_loader)"
   ],
   "execution_count": null,
   "outputs": []
  },
  {
   "cell_type": "code",
   "metadata": {
    "id": "XkG8MDu8ujAr"
   },
   "source": [
    "save_model = False\n",
    "\n",
    "if save_model:\n",
    "  from google.colab import drive\n",
    "  drive.mount(\"/content/drive\")\n",
    "  \n",
    "  PATH = '/content/drive/My Drive/Colab Notebooks/'\n",
    "  torch.save(model.state_dict(), PATH + model_name + '.pt')"
   ],
   "execution_count": null,
   "outputs": []
  },
  {
   "cell_type": "markdown",
   "metadata": {
    "id": "jcKeeTeMCNES"
   },
   "source": [
    "# **4. Results**\n",
    "\n",
    "We now use the model to get the two boundaries for the answer. Then, we append these boundaries as two new columns in the *validation dataset* and use them to retrieve the textual answer inside the context paragraph. Finally, we get the dataset of wrong answers in order to insepct it, and from that we compute the **validation score** of the model as the ratio of good answers on the total number of validation samples."
   ]
  },
  {
   "cell_type": "code",
   "metadata": {
    "id": "xcyTgSlp_uzz"
   },
   "source": [
    "starts, ends = [], []\n",
    "num_batches = len(val_loader)\n",
    "\n",
    "# pytorch lightning does not move the model to GPU during evaluation\n",
    "# so we need to do that by hand for both the model and the inputs\n",
    "model = model.cuda()\n",
    "\n",
    "print('Starting Evaluation...')\n",
    "for idx, (input, _) in enumerate(val_loader):\n",
    "  if (idx + 1) % 100 == 0:\n",
    "    print(f'Batch {idx+1:{len(str(num_batches))}}/{num_batches}')\n",
    "  s, e = model(input.cuda())\n",
    "  starts.append(s)\n",
    "  ends.append(e)\n",
    "\n",
    "val_df['pred_start'] = [s.item() for ss in starts for s in ss]\n",
    "val_df['pred_end'] = [e.item() for ee in ends for e in ee]\n",
    "\n",
    "# When the prediction (for both 'start' and 'end') points to a padding character \n",
    "# then it is placed at the last offset\n",
    "val_df['length_offsets'] = val_df['offsets'].apply(lambda x: len(x))\n",
    "val_df['pred_start'] = (val_df['pred_start'] < val_df['length_offsets']) * val_df['pred_start'] + (val_df['pred_start'] >= val_df['length_offsets']) * (val_df['length_offsets'] - 1)\n",
    "val_df['pred_end'] = (val_df['pred_end'] < val_df['length_offsets']) * val_df['pred_end'] + (val_df['pred_end'] >= val_df['length_offsets']) * (val_df['length_offsets'] - 1)"
   ],
   "execution_count": null,
   "outputs": []
  },
  {
   "cell_type": "code",
   "metadata": {
    "id": "4FjJZlp7xRHA"
   },
   "source": [
    "from metrics import compute_metrics\r\n",
    "\r\n",
    "def retrieving_procedure(rec):\r\n",
    "  return retrieve_answer(rec['pred_start'], rec['pred_end'], rec['offsets'], rec['context'])\r\n",
    "\r\n",
    "exact_match, f1 = compute_metrics(val_df, retrieving_procedure)\r\n",
    "print(\"EM: {}\\nF1: {}\".format(exact_match, f1))"
   ],
   "execution_count": null,
   "outputs": []
  }
 ]
}
